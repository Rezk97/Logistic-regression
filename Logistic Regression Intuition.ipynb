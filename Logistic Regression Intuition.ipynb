{
 "cells": [
  {
   "cell_type": "markdown",
   "metadata": {},
   "source": [
    "# Logistic regression"
   ]
  },
  {
   "cell_type": "markdown",
   "metadata": {},
   "source": [
    "It is used to calculate or predict the probability of a binary (yes/no) event occurring. An example of logistic regression could be applying machine learning to determine if a tumor  benign or malignant ."
   ]
  },
  {
   "cell_type": "markdown",
   "metadata": {},
   "source": [
    "## Problem Statement\n",
    "Assume we have a data set of 14 points each point is pair of (X1, X2) and each point has label, either 0 or 1  \n",
    "The goal is to estimate a decision boundary which fits our data in the best way."
   ]
  },
  {
   "cell_type": "code",
   "execution_count": 123,
   "metadata": {},
   "outputs": [],
   "source": [
    "# Imports\n",
    "import math, copy\n",
    "import numpy as np\n",
    "import matplotlib.pyplot as plt"
   ]
  },
  {
   "cell_type": "markdown",
   "metadata": {},
   "source": [
    "## Dataset\n",
    "Assume we have a data set of 14 points each point is pair of (X1, X2) and each point has label, either 0 or 1 \n",
    "\n",
    "One way to fit the data better is to create more features from each data point. \n",
    "\n",
    "We will map the features into all polynomial terms up to the sixth power.\n",
    "\n",
    "Each pair of (X1,X2) will be transformed to 27 features"
   ]
  },
  {
   "cell_type": "code",
   "execution_count": 124,
   "metadata": {},
   "outputs": [
    {
     "data": {
      "image/png": "[encoded data removed]",
      "text/plain": [
       "<Figure size 864x864 with 1 Axes>"
      ]
     },
     "metadata": {
      "needs_background": "light"
     },
     "output_type": "display_data"
    }
   ],
   "source": [
    "# Define dataset\n",
    "X = np.array([[1.5, 3.3], [0.7, 2.5], [0.5, 2], [1, 3], [0.5, 1.5], [1,1], [1.5, 0.5],\n",
    "                [3, 0.5], [2.5, 2], [2, 2.5], [2.1, 0.1],[1.5, 1.5],[2.5, 1.8],[3.5, 2.5]])\n",
    "# nomalize the dataset netween [0,1]\n",
    "X_train = (X - np.min(X)) / (np.max(X) - np.min(X))\n",
    "# define Y labels\n",
    "y_train = np.array([0, 0, 0, 0, 0, 0, 0, 1, 1, 1, 0, 1, 1, 1])\n",
    "\n",
    "# Plot the data\n",
    "fig,ax = plt.subplots(1,1,figsize=(12,12))\n",
    "\"\"\" plots logistic data with two axis \"\"\"\n",
    "# Find Indices of Positive and Negative Examples\n",
    "pos = y_train == 1\n",
    "neg = y_train == 0\n",
    "pos = pos.reshape(-1,)  #work with 1D or 1D y vectors\n",
    "neg = neg.reshape(-1,)\n",
    "\n",
    "# Plot examples\n",
    "ax.scatter(X_train[pos, 0], X_train[pos, 1], marker='x', s=80, c = 'red', label=\"y=1\")\n",
    "ax.scatter(X_train[neg, 0], X_train[neg, 1], marker='o', s=80, label=\"y=0\", facecolors='none', edgecolors='#0096ff', lw=3)\n",
    "\n",
    "ax.legend(loc='best')\n",
    "\n",
    "ax.figure.canvas.toolbar_visible = False\n",
    "ax.figure.canvas.header_visible = False\n",
    "ax.figure.canvas.footer_visible = False\n",
    "ax.axis([-0.1, 1.1, -0.1, 1.1])\n",
    "ax.set_ylabel('$x_1$')\n",
    "ax.set_xlabel('$x_0$')\n",
    "plt.show()"
   ]
  },
  {
   "cell_type": "code",
   "execution_count": 125,
   "metadata": {},
   "outputs": [
    {
     "name": "stdout",
     "output_type": "stream",
     "text": [
      "X_train shape:  (14, 27)\n"
     ]
    }
   ],
   "source": [
    "def map_feature(X, Degree):\n",
    "    \"\"\"\n",
    "    Feature mapping function to polynomial features    \n",
    "    \"\"\"\n",
    "    X1 = np.atleast_1d(X[:, 0])\n",
    "    X2 = np.atleast_1d(X[:, 1])\n",
    "    degree = 6\n",
    "    out = []\n",
    "    for i in range(1, degree+1):\n",
    "        for j in range(i + 1):\n",
    "            out.append((X1**(i-j) * (X2**j)))\n",
    "    return np.stack(out, axis=1)\n",
    "# We will map the features into all polynomial terms up to the sixth power.\n",
    "# Each pair of (X1,X2) will be transformed to 27 features \n",
    "X_train =  map_feature(X_train,6)\n",
    "print(\"X_train shape: \", X_train.shape)\n"
   ]
  },
  {
   "cell_type": "markdown",
   "metadata": {},
   "source": [
    "## Model Function\n",
    "for logistic regression, the model is represented as\n",
    "\n",
    "$$ f_{\\mathbf{w},b}(x) = g(\\mathbf{w}\\cdot \\mathbf{x} + b)$$\n",
    "where function $g$ is the sigmoid function. The sigmoid function is defined as:\n",
    "\n",
    "$$g(z) = \\frac{1}{1+e^{-z}}$$"
   ]
  },
  {
   "cell_type": "code",
   "execution_count": 126,
   "metadata": {},
   "outputs": [],
   "source": [
    "def sigmoid(z):\n",
    "    return 1/(1+np.exp(-z))"
   ]
  },
  {
   "cell_type": "markdown",
   "metadata": {},
   "source": [
    "## Cost Function\n",
    "for regularized logistic regression, the cost function is of the form\n",
    "$$J(\\mathbf{w},b) = \\frac{1}{m}  \\sum_{i=0}^{m-1} \\left[ -y^{(i)} \\log\\left(f_{\\mathbf{w},b}\\left( \\mathbf{x}^{(i)} \\right) \\right) - \\left( 1 - y^{(i)}\\right) \\log \\left( 1 - f_{\\mathbf{w},b}\\left( \\mathbf{x}^{(i)} \\right) \\right) \\right] + \\frac{\\lambda}{2m}  \\sum_{j=0}^{n-1} w_j^2$$\n",
    "\n",
    "Note that the $b$ parameter is not regularized."
   ]
  },
  {
   "cell_type": "code",
   "execution_count": 127,
   "metadata": {},
   "outputs": [],
   "source": [
    "def compute_cost(X, y, w, b, lambda_= 1):\n",
    "    \"\"\"\n",
    "    Computes the cost over all examples\n",
    "    Args:\n",
    "      X : (ndarray Shape (m,n)) data, m examples by n features\n",
    "      y : (array_like Shape (m,)) target value \n",
    "      w : (array_like Shape (n,)) Values of parameters of the model      \n",
    "      b : scalar Values of bias parameter of the model\n",
    "      lambda_ : (scalar, float)    Controls amount of regularization\n",
    "    \"\"\"\n",
    "\n",
    "    m, n = X.shape\n",
    "    z = np.dot(w, np.transpose(X))+b\n",
    "    w_square_sum = np.sum(w**2)\n",
    "    f_w_b = sigmoid(z)\n",
    "    cost_without_reg = np.sum(np.dot(-y,np.log(f_w_b))-np.dot((1-y),np.log((1-f_w_b))))/m\n",
    "    # Add the regularization cost to get the total cost\n",
    "    total_cost = cost_without_reg + ((lambda_/(2 * m)) * w_square_sum)\n",
    "    return total_cost\n",
    "    "
   ]
  },
  {
   "cell_type": "markdown",
   "metadata": {},
   "source": [
    "## Optimizer: Gradient decent\n",
    "We will use Gradient Descent, with  regularization term to added the gradient of W parameters.\n",
    "\n",
    "The gradient of the regularized cost function has two components as follows:\n",
    "\n",
    "$$\\frac{\\partial J(\\mathbf{w},b)}{\\partial b} = \\frac{1}{m}  \\sum_{i=0}^{m-1} (f_{\\mathbf{w},b}(\\mathbf{x}^{(i)}) - y^{(i)})$$\n",
    "\n",
    "$$\\frac{\\partial J(\\mathbf{w},b)}{\\partial w_j} = \\left( \\frac{1}{m}  \\sum_{i=0}^{m-1} (f_{\\mathbf{w},b}(\\mathbf{x}^{(i)}) - y^{(i)}) x_j^{(i)} \\right) + \\frac{\\lambda}{m} w_j  \\quad\\,$$\n",
    "\n",
    "\n"
   ]
  },
  {
   "cell_type": "code",
   "execution_count": 128,
   "metadata": {},
   "outputs": [],
   "source": [
    "def compute_gradient(X, y, w, b, lambda_=None): \n",
    "    \"\"\"\n",
    "    Computes the gradient for logistic regression \n",
    " \n",
    "    Args:\n",
    "      X : (ndarray Shape (m,n)) variable such as house size \n",
    "      y : (array_like Shape (m,1)) actual value \n",
    "      w : (array_like Shape (n,1)) values of parameters of the model      \n",
    "      b : (scalar)                 value of parameter of the model \n",
    "      lambda_ : (scalar,float)    regularization constant\n",
    "    Returns\n",
    "      dj_dw: (array_like Shape (n,1)) The gradient of the cost w.r.t. the parameters w. \n",
    "      dj_db: (scalar)                The gradient of the cost w.r.t. the parameter b. \n",
    "    \"\"\"\n",
    "    m, n = X.shape\n",
    "    z = np.dot(w, np.transpose(X))+b\n",
    "    f_w_b = sigmoid(z)\n",
    "    dj_dw = np.dot((f_w_b-y),X)/m\n",
    "    dj_db = np.sum(f_w_b-y)/m\n",
    "    dj_dw = dj_dw + ((lambda_*w)/m)\n",
    "    return dj_db, dj_dw\n",
    "\n",
    "def gradient_descent(X, y, w_in, b_in, cost_function, gradient_function, alpha, num_iters, lambda_): \n",
    "    \"\"\"\n",
    "    Performs batch gradient descent to learn theta. Updates theta by taking \n",
    "    num_iters gradient steps with learning rate alpha\n",
    "    \n",
    "    Args:\n",
    "      X :    (array_like Shape (m, n)\n",
    "      y :    (array_like Shape (m,))\n",
    "      w_in : (array_like Shape (n,))  Initial values of parameters of the model\n",
    "      b_in : (scalar)                 Initial value of parameter of the model\n",
    "      cost_function:                  function to compute cost\n",
    "      alpha : (float)                 Learning rate\n",
    "      num_iters : (int)               number of iterations to run gradient descent\n",
    "      lambda_ (scalar, float)         regularization constant\n",
    "      \n",
    "    Returns:\n",
    "      w : (array_like Shape (n,)) Updated values of parameters of the model after\n",
    "          running gradient descent\n",
    "      b : (scalar)                Updated value of parameter of the model after\n",
    "          running gradient descent\n",
    "    \"\"\"\n",
    "    \n",
    "    # number of training examples\n",
    "    m = len(X)\n",
    "    \n",
    "    # An array to store cost J and w's at each iteration primarily for graphing later\n",
    "    J_history = []\n",
    "    w_history = []\n",
    "    \n",
    "    for i in range(num_iters):\n",
    "\n",
    "        # Calculate the gradient and update the parameters\n",
    "        dj_db, dj_dw = gradient_function(X, y, w_in, b_in, lambda_)   \n",
    "\n",
    "        # Update Parameters using w, b, alpha and gradient\n",
    "        w_in = w_in - alpha * dj_dw               \n",
    "        b_in = b_in - alpha * dj_db              \n",
    "       \n",
    "        # Save cost J at each iteration\n",
    "        if i<100000:      # prevent resource exhaustion \n",
    "            cost =  cost_function(X, y, w_in, b_in, lambda_)\n",
    "            J_history.append(cost)\n",
    "\n",
    "        # Print cost every at intervals 10 times or as many iterations if < 10\n",
    "        if i% math.ceil(num_iters/10) == 0 or i == (num_iters-1):\n",
    "            w_history.append(w_in)\n",
    "            print(f\"Iteration {i:4}: Cost {float(J_history[-1]):8.2f}   \")\n",
    "        \n",
    "    return w_in, b_in, J_history, w_history #return w and J,w history for graphing"
   ]
  },
  {
   "cell_type": "markdown",
   "metadata": {},
   "source": [
    "## Fit the model"
   ]
  },
  {
   "cell_type": "code",
   "execution_count": 129,
   "metadata": {},
   "outputs": [
    {
     "name": "stdout",
     "output_type": "stream",
     "text": [
      "Iteration    0: Cost     0.89   \n",
      "Iteration 5000: Cost     0.31   \n",
      "Iteration 10000: Cost     0.24   \n",
      "Iteration 15000: Cost     0.21   \n",
      "Iteration 20000: Cost     0.20   \n",
      "Iteration 25000: Cost     0.19   \n",
      "Iteration 30000: Cost     0.18   \n",
      "Iteration 35000: Cost     0.17   \n",
      "Iteration 40000: Cost     0.17   \n",
      "Iteration 45000: Cost     0.17   \n",
      "Iteration 49999: Cost     0.16   \n"
     ]
    }
   ],
   "source": [
    "# Initialize fitting parameters\n",
    "np.random.seed(1)\n",
    "initial_w = np.random.rand(X_train.shape[1])-0.5\n",
    "initial_b = 1.\n",
    "\n",
    "# Set regularization parameter lambda_ to 1 (you can try varying this)\n",
    "lambda_ = 0.01;                                          \n",
    "# Some gradient descent settings\n",
    "iterations = 50000\n",
    "alpha = 0.01\n",
    "\n",
    "w,b, J_history,_ = gradient_descent(X_train, y_train, initial_w, initial_b, \n",
    "                                    compute_cost, compute_gradient, \n",
    "                                    alpha, iterations, lambda_)"
   ]
  },
  {
   "cell_type": "markdown",
   "metadata": {},
   "source": [
    "## Plot the model"
   ]
  },
  {
   "cell_type": "code",
   "execution_count": 130,
   "metadata": {},
   "outputs": [
    {
     "data": {
      "image/png": "[encoded data removed]",
      "text/plain": [
       "<Figure size 864x864 with 1 Axes>"
      ]
     },
     "metadata": {
      "needs_background": "light"
     },
     "output_type": "display_data"
    }
   ],
   "source": [
    "def plot_decision_boundary(w, b):\n",
    "    # Credit to dibgerge on Github for this plotting code\n",
    "    u = np.linspace(-0.1, 1.1, 100)\n",
    "    v = np.linspace(-0.1, 1.1, 100)\n",
    "\n",
    "    z = np.zeros((len(u), len(v)))\n",
    "    # Evaluate z = theta*x over the grid\n",
    "    for i in range(len(u)):\n",
    "        for j in range(len(v)):\n",
    "            z[i,j] = sigmoid(np.dot(map_feature(np.array([[u[i], v[j]]]), 6), w) + b)\n",
    "    \n",
    "    # important to transpose z before calling contour       \n",
    "    z = z.T\n",
    "    plt.contour(u,v,z, [0.3], colors=\"g\")\n",
    "\n",
    "# Plot the data\n",
    "fig,ax = plt.subplots(1,1,figsize=(12,12))\n",
    "\"\"\" plots logistic data with two axis \"\"\"\n",
    "# Find Indices of Positive and Negative Examples\n",
    "pos = y_train == 1\n",
    "neg = y_train == 0\n",
    "pos = pos.reshape(-1,)  #work with 1D or 1D y vectors\n",
    "neg = neg.reshape(-1,)\n",
    "\n",
    "# Plot examples\n",
    "ax.scatter(X_train[pos, 0], X_train[pos, 1], marker='x', s=80, c = 'red', label=\"y=1\")\n",
    "ax.scatter(X_train[neg, 0], X_train[neg, 1], marker='o', s=80, label=\"y=0\", facecolors='none', edgecolors='#0096ff', lw=3)\n",
    "\n",
    "ax.legend(loc='best')\n",
    "\n",
    "ax.figure.canvas.toolbar_visible = False\n",
    "ax.figure.canvas.header_visible = False\n",
    "ax.figure.canvas.footer_visible = False\n",
    "ax.axis([-0.1, 1.1, -0.1, 1.1])\n",
    "ax.set_ylabel('$x_1$')\n",
    "ax.set_xlabel('$x_0$')\n",
    "\n",
    "plot_decision_boundary(w, b)\n",
    "plt.show()\n",
    "\n"
   ]
  }
 ],
 "metadata": {
  "kernelspec": {
   "display_name": "Python 3.7.11 ('RecommendationSys')",
   "language": "python",
   "name": "python3"
  },
  "language_info": {
   "codemirror_mode": {
    "name": "ipython",
    "version": 3
   },
   "file_extension": ".py",
   "mimetype": "text/x-python",
   "name": "python",
   "nbconvert_exporter": "python",
   "pygments_lexer": "ipython3",
   "version": "3.7.11"
  },
  "orig_nbformat": 4,
  "vscode": {
   "interpreter": {
    "hash": "3733601d2f8939b09220a65c6cb46fdd04540580adea98372b35a1f2cc0ce83f"
   }
  }
 },
 "nbformat": 4,
 "nbformat_minor": 2
}
